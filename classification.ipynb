{
 "cells": [
  {
   "cell_type": "code",
   "execution_count": 13,
   "metadata": {},
   "outputs": [],
   "source": [
    "from ultralytics import YOLO"
   ]
  },
  {
   "cell_type": "code",
   "execution_count": null,
   "metadata": {},
   "outputs": [],
   "source": [
    "model = YOLO('yolov8n.pt')\n",
    "model.train(data=\"Alzheimer_s Dataset\",  epochs=5)\n",
    "metrics = model.val()\n",
    "print(f\"top-1 Accuracy ,{metrics.top1}\")\n",
    "print(f\"top-5 Accuracy ,{metrics.top5}\")\n",
    "img_path =\"Alzheimer_s Dataset/test/MildDemented/28.jpg\"\n",
    "results = model.predict(\"img_path\")\n",
    "if results and len(results) > 0:\n",
    "    \n",
    "    print(f\"Pridicted class: ,{results[0].probs[0]}\")\n",
    "else:\n",
    "    print(\"Prediction results are not in the expected format.\")"
   ]
  }
 ],
 "metadata": {
  "kernelspec": {
   "display_name": "Python 3",
   "language": "python",
   "name": "python3"
  },
  "language_info": {
   "codemirror_mode": {
    "name": "ipython",
    "version": 3
   },
   "file_extension": ".py",
   "mimetype": "text/x-python",
   "name": "python",
   "nbconvert_exporter": "python",
   "pygments_lexer": "ipython3",
   "version": "3.12.3"
  }
 },
 "nbformat": 4,
 "nbformat_minor": 2
}
