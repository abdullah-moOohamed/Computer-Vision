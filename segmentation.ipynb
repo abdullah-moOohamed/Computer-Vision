{
 "cells": [
  {
   "cell_type": "code",
   "execution_count": 1,
   "metadata": {},
   "outputs": [],
   "source": [
    "from ultralytics import YOLO\n",
    "import matplotlib.pyplot as plt\n",
    "import cv2"
   ]
  },
  {
   "cell_type": "code",
   "execution_count": null,
   "metadata": {},
   "outputs": [],
   "source": [
    "\n",
    "model = YOLO(\"yolov8n-seg.pt\")\n",
    "results = model(\"00.jpg\")\n",
    "result_img = results[0].plot()\n",
    "plt.imshow(result_img)\n",
    "plt.axis('off')\n",
    "plt.show()"
   ]
  },
  {
   "cell_type": "code",
   "execution_count": 6,
   "metadata": {},
   "outputs": [],
   "source": [
    "model = YOLO(\"yolov8n-seg.pt\")\n",
    "cap = cv2.VideoCapture(\"00.mp4\")\n",
    "out = cv2.VideoWriter(\"output_segment_Video.mp4\",\n",
    "                      cv2.VideoWriter_fourcc(*\"mp4v\"),\n",
    "                      cap.get(cv2.CAP_PROP_FPS),\n",
    "                      (int(cap.get(cv2.CAP_PROP_FRAME_WIDTH)),\n",
    "                       int(cap.get(cv2.CAP_PROP_FRAME_HEIGHT))))          \n",
    "\n",
    "while cap.isOpened():\n",
    "    ret, frame = cap.read()\n",
    "    if  ret == 0:\n",
    "        break\n",
    "    result_img = model(frame)[0].plot()\n",
    "    out.write(result_img)\n",
    "    cv2.imshow(\"Processed Frame\", result_img)\n",
    "cap.release()\n",
    "out.release()\n",
    "cv2.destroyAllWindows()     "
   ]
  }
 ],
 "metadata": {
  "kernelspec": {
   "display_name": "Python 3",
   "language": "python",
   "name": "python3"
  },
  "language_info": {
   "codemirror_mode": {
    "name": "ipython",
    "version": 3
   },
   "file_extension": ".py",
   "mimetype": "text/x-python",
   "name": "python",
   "nbconvert_exporter": "python",
   "pygments_lexer": "ipython3",
   "version": "3.12.3"
  }
 },
 "nbformat": 4,
 "nbformat_minor": 2
}
